{
 "cells": [
  {
   "cell_type": "code",
   "execution_count": 1,
   "id": "1cb47650",
   "metadata": {},
   "outputs": [],
   "source": [
    "import numpy as np\n"
   ]
  },
  {
   "cell_type": "code",
   "execution_count": 2,
   "id": "82e57121",
   "metadata": {},
   "outputs": [
    {
     "data": {
      "text/plain": [
       "'This is a code'"
      ]
     },
     "execution_count": 2,
     "metadata": {},
     "output_type": "execute_result"
    }
   ],
   "source": [
    "\"This is a code\""
   ]
  },
  {
   "cell_type": "code",
   "execution_count": 3,
   "id": "0c7bded3",
   "metadata": {},
   "outputs": [
    {
     "name": "stdout",
     "output_type": "stream",
     "text": [
      "1.22.1\n"
     ]
    }
   ],
   "source": [
    "print(np.__version__)"
   ]
  },
  {
   "cell_type": "code",
   "execution_count": 4,
   "id": "d10aab13",
   "metadata": {},
   "outputs": [],
   "source": [
    "a = np.array([[1,2,3],\n",
    "              [67,89,34]])\n",
    "b = np.array([[34,34,54],\n",
    "              [74,89,53]])\n",
    "c = a + b"
   ]
  },
  {
   "cell_type": "code",
   "execution_count": 5,
   "id": "cb360b5a",
   "metadata": {},
   "outputs": [
    {
     "name": "stdout",
     "output_type": "stream",
     "text": [
      "[[ 35  36  57]\n",
      " [141 178  87]]\n"
     ]
    }
   ],
   "source": [
    "print(c)"
   ]
  },
  {
   "cell_type": "code",
   "execution_count": 6,
   "id": "5a21c1f3",
   "metadata": {},
   "outputs": [
    {
     "name": "stdout",
     "output_type": "stream",
     "text": [
      "[[  34   68  162]\n",
      " [4958 7921 1802]]\n"
     ]
    }
   ],
   "source": [
    "d = a*b\n",
    "print(d)"
   ]
  },
  {
   "cell_type": "code",
   "execution_count": 7,
   "id": "4bdcf20d",
   "metadata": {},
   "outputs": [
    {
     "name": "stdout",
     "output_type": "stream",
     "text": [
      "[[1. 0. 0. 0. 0. 0. 0.]\n",
      " [0. 1. 0. 0. 0. 0. 0.]\n",
      " [0. 0. 1. 0. 0. 0. 0.]\n",
      " [0. 0. 0. 1. 0. 0. 0.]\n",
      " [0. 0. 0. 0. 1. 0. 0.]\n",
      " [0. 0. 0. 0. 0. 1. 0.]\n",
      " [0. 0. 0. 0. 0. 0. 1.]]\n"
     ]
    }
   ],
   "source": [
    "i = np.eye(7)\n",
    "print(i)"
   ]
  },
  {
   "cell_type": "code",
   "execution_count": 8,
   "id": "90761a52",
   "metadata": {},
   "outputs": [
    {
     "name": "stdout",
     "output_type": "stream",
     "text": [
      "[[[ 0  1  2]\n",
      "  [ 3  4  5]\n",
      "  [ 6  7  8]]\n",
      "\n",
      " [[ 9 10 11]\n",
      "  [12 13 14]\n",
      "  [15 16 17]]\n",
      "\n",
      " [[18 19 20]\n",
      "  [21 22 23]\n",
      "  [24 25 26]]]\n"
     ]
    }
   ],
   "source": [
    "a = np.array([x for x in range(27)])\n",
    "\n",
    "o = a.reshape((3,3,3))\n",
    "\n",
    "print(o)"
   ]
  },
  {
   "cell_type": "code",
   "execution_count": 9,
   "id": "c068023c",
   "metadata": {},
   "outputs": [
    {
     "name": "stdout",
     "output_type": "stream",
     "text": [
      "[2. 5. 7. 4. 3.]\n"
     ]
    }
   ],
   "source": [
    "a = np.array([2,5,7,4,3])\n",
    "\n",
    "o = a.astype('float')\n",
    "\n",
    "print(o)"
   ]
  },
  {
   "cell_type": "code",
   "execution_count": 10,
   "id": "e0a2f19d",
   "metadata": {},
   "outputs": [
    {
     "data": {
      "text/plain": [
       "dtype('int32')"
      ]
     },
     "execution_count": 10,
     "metadata": {},
     "output_type": "execute_result"
    }
   ],
   "source": [
    "a.dtype"
   ]
  },
  {
   "cell_type": "code",
   "execution_count": 11,
   "id": "d7dc5766",
   "metadata": {},
   "outputs": [
    {
     "data": {
      "text/plain": [
       "(5,)"
      ]
     },
     "execution_count": 11,
     "metadata": {},
     "output_type": "execute_result"
    }
   ],
   "source": [
    "a.shape"
   ]
  },
  {
   "cell_type": "code",
   "execution_count": 12,
   "id": "c31293af",
   "metadata": {},
   "outputs": [
    {
     "name": "stdout",
     "output_type": "stream",
     "text": [
      "[[0. 0. 0. 0. 0.]\n",
      " [0. 0. 0. 0. 0.]]\n"
     ]
    }
   ],
   "source": [
    "zeros1 = np.zeros((2,5))\n",
    "print(zeros1)"
   ]
  },
  {
   "cell_type": "code",
   "execution_count": 13,
   "id": "532247b3",
   "metadata": {},
   "outputs": [
    {
     "data": {
      "text/plain": [
       "array([[0., 0.],\n",
       "       [0., 0.],\n",
       "       [0., 0.],\n",
       "       [0., 0.],\n",
       "       [0., 0.]])"
      ]
     },
     "execution_count": 13,
     "metadata": {},
     "output_type": "execute_result"
    }
   ],
   "source": [
    "zeros1.reshape((5,2))"
   ]
  },
  {
   "cell_type": "code",
   "execution_count": 14,
   "id": "8bc8a740",
   "metadata": {},
   "outputs": [
    {
     "name": "stdout",
     "output_type": "stream",
     "text": [
      "[[ 1  2]\n",
      " [ 3  4]\n",
      " [ 5  6]\n",
      " [ 7  8]\n",
      " [ 9 10]\n",
      " [10 11]]\n"
     ]
    }
   ],
   "source": [
    "a1 = np.array([[1,2],\n",
    "               [3,4],\n",
    "               [5,6]])\n",
    "\n",
    "a2 = np.array([[7,8],\n",
    "               [9,10],\n",
    "               [10,11]])\n",
    "\n",
    "o = np.vstack((a1, a2))\n",
    "\n",
    "print(o)\n"
   ]
  },
  {
   "cell_type": "code",
   "execution_count": 15,
   "id": "fbdcafa1",
   "metadata": {},
   "outputs": [
    {
     "name": "stdout",
     "output_type": "stream",
     "text": [
      "[  0   2   4   6   8  10  12  14  16  18  20  22  24  26  28  30  32  34\n",
      "  36  38  40  42  44  46  48  50  52  54  56  58  60  62  64  66  68  70\n",
      "  72  74  76  78  80  82  84  86  88  90  92  94  96  98 100]\n"
     ]
    }
   ],
   "source": [
    "o = np.arange(0, 101, 2)\n",
    "\n",
    "print(o)"
   ]
  },
  {
   "cell_type": "code",
   "execution_count": 16,
   "id": "ba2ef4cf",
   "metadata": {},
   "outputs": [
    {
     "name": "stdout",
     "output_type": "stream",
     "text": [
      "(array([0, 3, 4], dtype=int64),)\n"
     ]
    }
   ],
   "source": [
    "a = np.array([1,2,3,4,5])\n",
    "\n",
    "b = np.array([1,3,2,4,5])\n",
    "\n",
    "print(np.where(a == b))"
   ]
  },
  {
   "cell_type": "code",
   "execution_count": 17,
   "id": "ed5d3d45",
   "metadata": {},
   "outputs": [
    {
     "data": {
      "text/plain": [
       "array([[1., 1., 1.],\n",
       "       [1., 1., 1.],\n",
       "       [1., 1., 1.],\n",
       "       [1., 1., 1.],\n",
       "       [1., 1., 1.],\n",
       "       [1., 1., 1.],\n",
       "       [1., 1., 1.],\n",
       "       [1., 1., 1.],\n",
       "       [1., 1., 1.],\n",
       "       [1., 1., 1.],\n",
       "       [1., 1., 1.],\n",
       "       [1., 1., 1.],\n",
       "       [1., 1., 1.],\n",
       "       [1., 1., 1.],\n",
       "       [1., 1., 1.]])"
      ]
     },
     "execution_count": 17,
     "metadata": {},
     "output_type": "execute_result"
    }
   ],
   "source": [
    "ones1 = np.ones((15,3))\n",
    "ones1"
   ]
  },
  {
   "cell_type": "code",
   "execution_count": 18,
   "id": "01e6f3bb",
   "metadata": {},
   "outputs": [
    {
     "data": {
      "text/plain": [
       "0.9017883476488092"
      ]
     },
     "execution_count": 18,
     "metadata": {},
     "output_type": "execute_result"
    }
   ],
   "source": [
    "x = np.sin(46)\n",
    "x"
   ]
  },
  {
   "cell_type": "code",
   "execution_count": 19,
   "id": "2bf39bb4",
   "metadata": {},
   "outputs": [
    {
     "data": {
      "text/plain": [
       "array([3., 3., 3., 3., 3., 3., 3., 3., 3., 3., 3., 3., 3., 3., 3.])"
      ]
     },
     "execution_count": 19,
     "metadata": {},
     "output_type": "execute_result"
    }
   ],
   "source": [
    "y = ones1.sum(axis=1)\n",
    "y"
   ]
  },
  {
   "cell_type": "code",
   "execution_count": 20,
   "id": "9ea81f25",
   "metadata": {},
   "outputs": [
    {
     "name": "stdout",
     "output_type": "stream",
     "text": [
      "[[1. 1. 1. 1. 1. 1. 1. 1. 1. 1. 1. 1. 1. 1. 1.]\n",
      " [1. 1. 1. 1. 1. 1. 1. 1. 1. 1. 1. 1. 1. 1. 1.]\n",
      " [1. 1. 1. 1. 1. 1. 1. 1. 1. 1. 1. 1. 1. 1. 1.]]\n",
      "<numpy.flatiter object at 0x000001B8D89E8650>\n",
      "360\n",
      "2\n"
     ]
    }
   ],
   "source": [
    "print(ones1.T)\n",
    "print(ones1.flat)\n",
    "print(ones1.nbytes)\n",
    "print(ones1.ndim)"
   ]
  },
  {
   "cell_type": "code",
   "execution_count": 21,
   "id": "cd53b55c",
   "metadata": {},
   "outputs": [
    {
     "name": "stdout",
     "output_type": "stream",
     "text": [
      "45\n"
     ]
    }
   ],
   "source": [
    "print(ones1.size)\n"
   ]
  },
  {
   "cell_type": "code",
   "execution_count": 22,
   "id": "52a6938c",
   "metadata": {},
   "outputs": [
    {
     "data": {
      "text/plain": [
       "9.99666555493786"
      ]
     },
     "execution_count": 22,
     "metadata": {},
     "output_type": "execute_result"
    }
   ],
   "source": [
    "f = 999\n",
    "np.cbrt(f)"
   ]
  },
  {
   "cell_type": "code",
   "execution_count": 23,
   "id": "e6a137b6",
   "metadata": {},
   "outputs": [
    {
     "name": "stdout",
     "output_type": "stream",
     "text": [
      "[   0.           13.51351351   27.02702703   40.54054054   54.05405405\n",
      "   67.56756757   81.08108108   94.59459459  108.10810811  121.62162162\n",
      "  135.13513514  148.64864865  162.16216216  175.67567568  189.18918919\n",
      "  202.7027027   216.21621622  229.72972973  243.24324324  256.75675676\n",
      "  270.27027027  283.78378378  297.2972973   310.81081081  324.32432432\n",
      "  337.83783784  351.35135135  364.86486486  378.37837838  391.89189189\n",
      "  405.40540541  418.91891892  432.43243243  445.94594595  459.45945946\n",
      "  472.97297297  486.48648649  500.          513.51351351  527.02702703\n",
      "  540.54054054  554.05405405  567.56756757  581.08108108  594.59459459\n",
      "  608.10810811  621.62162162  635.13513514  648.64864865  662.16216216\n",
      "  675.67567568  689.18918919  702.7027027   716.21621622  729.72972973\n",
      "  743.24324324  756.75675676  770.27027027  783.78378378  797.2972973\n",
      "  810.81081081  824.32432432  837.83783784  851.35135135  864.86486486\n",
      "  878.37837838  891.89189189  905.40540541  918.91891892  932.43243243\n",
      "  945.94594595  959.45945946  972.97297297  986.48648649 1000.        ]\n"
     ]
    }
   ],
   "source": [
    "o = np.linspace(0, 1000, 75)\n",
    "\n",
    "print(o)"
   ]
  },
  {
   "cell_type": "code",
   "execution_count": 24,
   "id": "560669c0",
   "metadata": {},
   "outputs": [
    {
     "name": "stdout",
     "output_type": "stream",
     "text": [
      "[[1 2 1 2 1 2 1 2 1 2 1 2 1 2 1 2 1 2]\n",
      " [3 4 3 4 3 4 3 4 3 4 3 4 3 4 3 4 3 4]\n",
      " [5 6 5 6 5 6 5 6 5 6 5 6 5 6 5 6 5 6]]\n"
     ]
    }
   ],
   "source": [
    "print(np.tile(a1,9))"
   ]
  },
  {
   "cell_type": "code",
   "execution_count": 25,
   "id": "57ac5bd4",
   "metadata": {},
   "outputs": [
    {
     "name": "stdout",
     "output_type": "stream",
     "text": [
      "[[2 2 6 1 3]\n",
      " [9 6 1 0 1]\n",
      " [9 0 0 9 3]\n",
      " [4 0 0 4 1]\n",
      " [7 3 2 4 7]]\n"
     ]
    }
   ],
   "source": [
    "np.random.seed(123) \n",
    "\n",
    "o = np.random.randint(0, 10, size = (5,5))\n",
    "\n",
    "print(o)"
   ]
  },
  {
   "cell_type": "code",
   "execution_count": 26,
   "id": "bc851615",
   "metadata": {},
   "outputs": [
    {
     "name": "stdout",
     "output_type": "stream",
     "text": [
      "[[-1.0856306   0.99734545  0.2829785 ]\n",
      " [-1.50629471 -0.57860025  1.65143654]\n",
      " [-2.42667924 -0.42891263  1.26593626]]\n"
     ]
    }
   ],
   "source": [
    "np.random.seed(123)\n",
    "\n",
    "o = np.random.normal(size = (3,3))\n",
    "\n",
    "print(o)"
   ]
  },
  {
   "cell_type": "code",
   "execution_count": 27,
   "id": "2ff47433",
   "metadata": {},
   "outputs": [
    {
     "data": {
      "text/plain": [
       "array([ 0,  1,  2,  3,  4,  5,  6,  7,  8,  9, 10, 11, 12, 13, 14, 15, 16,\n",
       "       17, 18, 19, 20, 21, 22, 23, 24, 25, 26, 27, 28, 29, 30, 31, 32, 33,\n",
       "       34, 35, 36, 37, 38, 39, 40, 41, 42, 43, 44])"
      ]
     },
     "execution_count": 27,
     "metadata": {},
     "output_type": "execute_result"
    }
   ],
   "source": [
    "rng1 = np.arange(45)\n",
    "rng1"
   ]
  },
  {
   "cell_type": "code",
   "execution_count": 28,
   "id": "bb9631a3",
   "metadata": {},
   "outputs": [
    {
     "data": {
      "text/plain": [
       "array([[ 0,  1,  2,  3,  4,  5,  6,  7,  8],\n",
       "       [ 9, 10, 11, 12, 13, 14, 15, 16, 17],\n",
       "       [18, 19, 20, 21, 22, 23, 24, 25, 26],\n",
       "       [27, 28, 29, 30, 31, 32, 33, 34, 35],\n",
       "       [36, 37, 38, 39, 40, 41, 42, 43, 44]])"
      ]
     },
     "execution_count": 28,
     "metadata": {},
     "output_type": "execute_result"
    }
   ],
   "source": [
    "rng1.reshape(5,9)"
   ]
  },
  {
   "cell_type": "markdown",
   "id": "79a2feb3",
   "metadata": {},
   "source": [
    "# THIS IS A HEADING"
   ]
  },
  {
   "cell_type": "markdown",
   "id": "6d46d38c",
   "metadata": {},
   "source": [
    "THIS IS A MARKDOWN"
   ]
  },
  {
   "cell_type": "markdown",
   "id": "ad686f14",
   "metadata": {},
   "source": []
  }
 ],
 "metadata": {
  "kernelspec": {
   "display_name": "Python 3 (ipykernel)",
   "language": "python",
   "name": "python3"
  },
  "language_info": {
   "codemirror_mode": {
    "name": "ipython",
    "version": 3
   },
   "file_extension": ".py",
   "mimetype": "text/x-python",
   "name": "python",
   "nbconvert_exporter": "python",
   "pygments_lexer": "ipython3",
   "version": "3.8.8"
  }
 },
 "nbformat": 4,
 "nbformat_minor": 5
}
