{
 "cells": [
  {
   "cell_type": "code",
   "execution_count": 1,
   "id": "f41e41ef",
   "metadata": {},
   "outputs": [],
   "source": [
    "import numpy as np"
   ]
  },
  {
   "cell_type": "code",
   "execution_count": 2,
   "id": "d4a2bce9",
   "metadata": {},
   "outputs": [],
   "source": [
    "taxi = np.genfromtxt('nyc_taxis.csv', delimiter = ',', skip_header = True)"
   ]
  },
  {
   "cell_type": "markdown",
   "id": "0de1a2b5",
   "metadata": {},
   "source": [
    "Client has a series of questions to be answered, derive the data for him"
   ]
  },
  {
   "cell_type": "code",
   "execution_count": 3,
   "id": "9a7926eb",
   "metadata": {},
   "outputs": [
    {
     "data": {
      "text/plain": [
       "array([[2.016e+03, 1.000e+00, 1.000e+00, ..., 1.165e+01, 6.999e+01,\n",
       "        1.000e+00],\n",
       "       [2.016e+03, 1.000e+00, 1.000e+00, ..., 8.000e+00, 5.430e+01,\n",
       "        1.000e+00],\n",
       "       [2.016e+03, 1.000e+00, 1.000e+00, ..., 0.000e+00, 3.780e+01,\n",
       "        2.000e+00],\n",
       "       ...,\n",
       "       [2.016e+03, 6.000e+00, 3.000e+01, ..., 5.000e+00, 6.334e+01,\n",
       "        1.000e+00],\n",
       "       [2.016e+03, 6.000e+00, 3.000e+01, ..., 8.950e+00, 4.475e+01,\n",
       "        1.000e+00],\n",
       "       [2.016e+03, 6.000e+00, 3.000e+01, ..., 0.000e+00, 5.484e+01,\n",
       "        2.000e+00]])"
      ]
     },
     "execution_count": 3,
     "metadata": {},
     "output_type": "execute_result"
    }
   ],
   "source": [
    "taxi"
   ]
  },
  {
   "cell_type": "markdown",
   "id": "284678ca",
   "metadata": {},
   "source": [
    "Q1-Calculating the mean speed of all the cab rides"
   ]
  },
  {
   "cell_type": "code",
   "execution_count": 4,
   "id": "4b34c116",
   "metadata": {},
   "outputs": [],
   "source": [
    "speed1 = taxi[:,7]/(taxi[:,8]/3600) #distance/time"
   ]
  },
  {
   "cell_type": "code",
   "execution_count": 5,
   "id": "f341f5f7",
   "metadata": {},
   "outputs": [
    {
     "data": {
      "text/plain": [
       "32.24258580925573"
      ]
     },
     "execution_count": 5,
     "metadata": {},
     "output_type": "execute_result"
    }
   ],
   "source": [
    "mean1 = speed1.mean()\n",
    "mean1"
   ]
  },
  {
   "cell_type": "markdown",
   "id": "49ce6d98",
   "metadata": {},
   "source": [
    "Q2-Calculate the number of rides taken in the month of februrary"
   ]
  },
  {
   "cell_type": "code",
   "execution_count": 6,
   "id": "a6c90af9",
   "metadata": {},
   "outputs": [
    {
     "name": "stdout",
     "output_type": "stream",
     "text": [
      "13333\n"
     ]
    }
   ],
   "source": [
    "rides_feb = taxi[taxi[:, 1] == 2, 1] #for selecting only the 2nd column\n",
    "print(rides_feb.shape[0])"
   ]
  },
  {
   "cell_type": "markdown",
   "id": "2601f593",
   "metadata": {},
   "source": [
    "Q3-Number of people who have tipped more than 50"
   ]
  },
  {
   "cell_type": "code",
   "execution_count": 7,
   "id": "00800175",
   "metadata": {},
   "outputs": [
    {
     "name": "stdout",
     "output_type": "stream",
     "text": [
      "16\n"
     ]
    }
   ],
   "source": [
    "tips = taxi[taxi[:, -3] > 50, -3].shape[0]\n",
    "print(tips)"
   ]
  },
  {
   "cell_type": "markdown",
   "id": "c0c90b3d",
   "metadata": {},
   "source": [
    "Successfully retrived all data that was required by the client for further steps."
   ]
  }
 ],
 "metadata": {
  "kernelspec": {
   "display_name": "Python 3 (ipykernel)",
   "language": "python",
   "name": "python3"
  },
  "language_info": {
   "codemirror_mode": {
    "name": "ipython",
    "version": 3
   },
   "file_extension": ".py",
   "mimetype": "text/x-python",
   "name": "python",
   "nbconvert_exporter": "python",
   "pygments_lexer": "ipython3",
   "version": "3.8.8"
  }
 },
 "nbformat": 4,
 "nbformat_minor": 5
}
